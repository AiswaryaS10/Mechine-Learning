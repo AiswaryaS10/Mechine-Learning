{
 "cells": [
  {
   "cell_type": "markdown",
   "id": "47ed67c2-b43d-466b-91db-4b8b0cdcf105",
   "metadata": {},
   "source": [
    "#### Task-1"
   ]
  },
  {
   "cell_type": "code",
   "execution_count": 2,
   "id": "4127434e-c48d-405a-a8c7-34ea5c3a8cba",
   "metadata": {},
   "outputs": [],
   "source": [
    "import numpy as np \n",
    "import scipy.stats as stats"
   ]
  },
  {
   "cell_type": "code",
   "execution_count": 3,
   "id": "8f3f3e79-914a-48d6-9c81-91b2bffb9725",
   "metadata": {},
   "outputs": [],
   "source": [
    "# given data\n",
    "population_mean = 11\n",
    "population_sd = 2.3\n",
    "\n",
    "sample_size = 1000\n",
    "sample_mean = 11.5\n",
    "alpha = 0.05"
   ]
  },
  {
   "cell_type": "code",
   "execution_count": 7,
   "id": "61edb2b9-c377-46a4-8982-658c40410506",
   "metadata": {},
   "outputs": [
    {
     "name": "stdout",
     "output_type": "stream",
     "text": [
      "Test Statistics = 6.874516652539955\n"
     ]
    }
   ],
   "source": [
    "# calculate test statistics \n",
    "z = (sample_mean - population_mean)/(population_sd / np.sqrt(sample_size))\n",
    "print(\"Test Statistics =\", z)"
   ]
  },
  {
   "cell_type": "code",
   "execution_count": 9,
   "id": "9c071e18-218f-456a-aab7-dfa5b403a837",
   "metadata": {},
   "outputs": [
    {
     "name": "stdout",
     "output_type": "stream",
     "text": [
      "Critical Value = 1.6448536269514722\n"
     ]
    }
   ],
   "source": [
    "# find critical value\n",
    "critical_value = stats.norm.ppf(1 - alpha)\n",
    "print(\"Critical Value =\", critical_value)"
   ]
  },
  {
   "cell_type": "code",
   "execution_count": 10,
   "id": "b4c38ff2-d05c-4590-ad40-e508b32219f0",
   "metadata": {},
   "outputs": [
    {
     "name": "stdout",
     "output_type": "stream",
     "text": [
      "Reject null hypothesis\n"
     ]
    }
   ],
   "source": [
    "# make decision\n",
    "if z > critical_value:\n",
    "    print(\"Reject null hypothesis\")\n",
    "else:\n",
    "    print(\"Fail to reject null hypothesis\")"
   ]
  },
  {
   "cell_type": "code",
   "execution_count": 11,
   "id": "a6e233af-0d5f-46a8-bdd6-ccd3582cf1c4",
   "metadata": {},
   "outputs": [
    {
     "name": "stdout",
     "output_type": "stream",
     "text": [
      "Conclusion : The average time working mothers spend talking to their children is greater than 11 minutes per day\n"
     ]
    }
   ],
   "source": [
    "# conclusion\n",
    "print(\"Conclusion : The average time working mothers spend talking to their children is greater than 11 minutes per day\")"
   ]
  },
  {
   "cell_type": "code",
   "execution_count": null,
   "id": "d7ff0d55-5aa9-4ae9-9707-b2b6132c1bd9",
   "metadata": {},
   "outputs": [],
   "source": []
  },
  {
   "cell_type": "code",
   "execution_count": null,
   "id": "f2ea26e7-4287-4034-8a72-c33f11d65ef4",
   "metadata": {},
   "outputs": [],
   "source": []
  },
  {
   "cell_type": "markdown",
   "id": "2f8642a2-3461-4292-a31f-07ab36c8ca2c",
   "metadata": {},
   "source": [
    "#### Task-2"
   ]
  },
  {
   "cell_type": "code",
   "execution_count": 1,
   "id": "e2174910-550a-47e6-a67a-10a7668ce01f",
   "metadata": {},
   "outputs": [],
   "source": [
    "import numpy as np\n",
    "import scipy.stats as stats"
   ]
  },
  {
   "cell_type": "code",
   "execution_count": 2,
   "id": "137dd671-52cb-4e7d-8ea4-fbc9fde1e7f9",
   "metadata": {},
   "outputs": [],
   "source": [
    "# given data \n",
    "population_mean = 5\n",
    "sample_size = 40\n",
    "sample_mean = 4.6\n",
    "sample_sd = 0.8\n",
    "alpha = 0.05"
   ]
  },
  {
   "cell_type": "code",
   "execution_count": 5,
   "id": "50a1f65a-b846-4fba-a37b-1ef9c7c2dfb7",
   "metadata": {},
   "outputs": [
    {
     "name": "stdout",
     "output_type": "stream",
     "text": [
      "Test Statistics = -3.162277660168382\n"
     ]
    }
   ],
   "source": [
    "# calculate test statistics\n",
    "t = (sample_mean - population_mean)/(sample_sd / np.sqrt(sample_size))\n",
    "print(\"Test Statistics =\", t)"
   ]
  },
  {
   "cell_type": "code",
   "execution_count": 6,
   "id": "dc587d8d-4b2c-4591-81b0-f0405c4342dc",
   "metadata": {},
   "outputs": [
    {
     "name": "stdout",
     "output_type": "stream",
     "text": [
      "Critical value = 1.6848751194973992\n"
     ]
    }
   ],
   "source": [
    "# find critical value\n",
    "critical_value = stats.t.ppf(1-alpha, sample_size-1)\n",
    "print(\"Critical value =\", critical_value)"
   ]
  },
  {
   "cell_type": "code",
   "execution_count": 7,
   "id": "7cddde39-a1d1-4cc9-97a2-344a25ca4b6d",
   "metadata": {},
   "outputs": [
    {
     "name": "stdout",
     "output_type": "stream",
     "text": [
      "Reject null hypothesis\n"
     ]
    }
   ],
   "source": [
    "# make decision\n",
    "if t < -critical_value:\n",
    "    print(\"Reject null hypothesis\")\n",
    "else:\n",
    "    print(\"Fail to reject null hypothesis\")"
   ]
  },
  {
   "cell_type": "code",
   "execution_count": null,
   "id": "a0824f56-3b08-4db5-9d25-bb62786d1ba9",
   "metadata": {},
   "outputs": [],
   "source": [
    "# conclusion\n",
    "print(\"Conclusion : The Coffee shop's claim, that is the average wait time for customers is less than "
   ]
  }
 ],
 "metadata": {
  "kernelspec": {
   "display_name": "Python 3 (ipykernel)",
   "language": "python",
   "name": "python3"
  },
  "language_info": {
   "codemirror_mode": {
    "name": "ipython",
    "version": 3
   },
   "file_extension": ".py",
   "mimetype": "text/x-python",
   "name": "python",
   "nbconvert_exporter": "python",
   "pygments_lexer": "ipython3",
   "version": "3.11.4"
  }
 },
 "nbformat": 4,
 "nbformat_minor": 5
}
